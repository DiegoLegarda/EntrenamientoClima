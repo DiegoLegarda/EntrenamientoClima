{
  "nbformat": 4,
  "nbformat_minor": 0,
  "metadata": {
    "colab": {
      "provenance": [],
      "mount_file_id": "16OizjXjsrERi-g6VaMqjB3PDrhNP_l8o",
      "authorship_tag": "ABX9TyOHMY1P9NgDDGWHSmkzNT4o",
      "include_colab_link": true
    },
    "kernelspec": {
      "name": "python3",
      "display_name": "Python 3"
    },
    "language_info": {
      "name": "python"
    }
  },
  "cells": [
    {
      "cell_type": "markdown",
      "metadata": {
        "id": "view-in-github",
        "colab_type": "text"
      },
      "source": [
        "<a href=\"https://colab.research.google.com/github/DiegoLegarda/EntrenamientoClima/blob/main/RedClima.ipynb\" target=\"_parent\"><img src=\"https://colab.research.google.com/assets/colab-badge.svg\" alt=\"Open In Colab\"/></a>"
      ]
    },
    {
      "cell_type": "code",
      "execution_count": 11,
      "metadata": {
        "id": "VCA2HdOXLp_9"
      },
      "outputs": [],
      "source": [
        "import pandas as pd\n",
        "import numpy as np\n",
        "import pickle\n",
        "import joblib\n",
        "from sklearn.model_selection import train_test_split\n",
        "from sklearn.preprocessing import StandardScaler\n",
        "from sklearn.ensemble import RandomForestClassifier\n",
        "from sklearn.metrics import classification_report, confusion_matrix, accuracy_score\n"
      ]
    },
    {
      "cell_type": "code",
      "source": [
        "from google.colab import drive\n",
        "\n",
        "# Montar Google Drive\n",
        "drive.mount('/content/drive')"
      ],
      "metadata": {
        "colab": {
          "base_uri": "https://localhost:8080/"
        },
        "id": "ALch4SqBOkuc",
        "outputId": "a8fba2eb-87cd-4e87-f540-632bd1c77d42"
      },
      "execution_count": 12,
      "outputs": [
        {
          "output_type": "stream",
          "name": "stdout",
          "text": [
            "Drive already mounted at /content/drive; to attempt to forcibly remount, call drive.mount(\"/content/drive\", force_remount=True).\n"
          ]
        }
      ]
    },
    {
      "cell_type": "code",
      "source": [
        "import os\n",
        "\n",
        "# Listar archivos en una carpeta específica\n",
        "ruta_carpeta = '/content/drive/MyDrive/Colab Notebooks'\n",
        "archivos = os.listdir(ruta_carpeta)\n",
        "print(archivos)"
      ],
      "metadata": {
        "colab": {
          "base_uri": "https://localhost:8080/"
        },
        "id": "WD3O0ipgNC4E",
        "outputId": "09521f7b-e0aa-4aac-9d40-6e294f90107e"
      },
      "execution_count": 13,
      "outputs": [
        {
          "output_type": "stream",
          "name": "stdout",
          "text": [
            "['DatosEntrenamiento.csv', 'DatosEntrenamiento.gsheet', 'RedClima.ipynb']\n"
          ]
        }
      ]
    },
    {
      "source": [
        "import pandas as pd\n",
        "\n",
        "# Definir la ruta al archivo\n",
        "ruta_archivo = '/content/drive/MyDrive/Colab Notebooks/DatosEntrenamiento.csv'\n",
        "\n",
        "# Cargar el archivo en un DataFrame\n",
        "data = pd.read_csv(ruta_archivo, decimal=',')\n",
        "\n",
        "# Ver las primeras filas\n",
        "print(data.head())\n",
        "\n",
        "# 1. Cargar y explorar los datos\n",
        "\n",
        "data['fecha_hora'] = pd.to_datetime(data['fecha_hora'])\n",
        "data['temperatura'] = pd.to_numeric(data['temperatura'], errors='coerce')\n",
        "data['humedad'] = pd.to_numeric(data['humedad'], errors='coerce')\n",
        "print(data)"
      ],
      "cell_type": "code",
      "metadata": {
        "colab": {
          "base_uri": "https://localhost:8080/"
        },
        "id": "HVhB9LOIQZmc",
        "outputId": "aaed5586-61e5-4f01-8fc1-9c9c26d718bd"
      },
      "execution_count": 14,
      "outputs": [
        {
          "output_type": "stream",
          "name": "stdout",
          "text": [
            "      fecha_hora  temperatura    humedad\n",
            "0  20230101T0000    12.270246  80.826390\n",
            "1  20230101T0100    12.340245  79.099785\n",
            "2  20230101T0200    11.840245  80.655174\n",
            "3  20230101T0300    11.550245  81.831300\n",
            "4  20230101T0400    11.260245  81.179360\n",
            "               fecha_hora  temperatura    humedad\n",
            "0     2023-01-01 00:00:00    12.270246  80.826390\n",
            "1     2023-01-01 01:00:00    12.340245  79.099785\n",
            "2     2023-01-01 02:00:00    11.840245  80.655174\n",
            "3     2023-01-01 03:00:00    11.550245  81.831300\n",
            "4     2023-01-01 04:00:00    11.260245  81.179360\n",
            "...                   ...          ...        ...\n",
            "15691 2024-10-15 19:00:00          NaN        NaN\n",
            "15692 2024-10-15 20:00:00          NaN        NaN\n",
            "15693 2024-10-15 21:00:00          NaN        NaN\n",
            "15694 2024-10-15 22:00:00          NaN        NaN\n",
            "15695 2024-10-15 23:00:00          NaN        NaN\n",
            "\n",
            "[15696 rows x 3 columns]\n"
          ]
        }
      ]
    },
    {
      "cell_type": "code",
      "source": [
        "# 2. Limpieza de datos\n",
        "data_clean = data.dropna()\n",
        "data_clean = data_clean.drop_duplicates()"
      ],
      "metadata": {
        "id": "iYACqUfLOh53"
      },
      "execution_count": 15,
      "outputs": []
    },
    {
      "cell_type": "code",
      "source": [
        "# 3. Ingeniería de características\n",
        "data_clean['hora'] = data_clean['fecha_hora'].dt.hour\n",
        "data_clean['dia'] = data_clean['fecha_hora'].dt.day\n",
        "data_clean['mes'] = data_clean['fecha_hora'].dt.month\n",
        "data_clean['dia_semana'] = data_clean['fecha_hora'].dt.dayofweek"
      ],
      "metadata": {
        "id": "bTZVUgbyOiNS"
      },
      "execution_count": 16,
      "outputs": []
    },
    {
      "cell_type": "code",
      "source": [
        "# 4. Etiquetado automático\n",
        "def clasificar_clima(row):\n",
        "    if row['temperatura'] > 30 and row['humedad'] < 40:\n",
        "        return 1  # Alto Riesgo\n",
        "    elif row['temperatura'] < 20 and row['humedad'] > 70:\n",
        "        return 0  # Bajo Riesgo\n",
        "    else:\n",
        "        return 2  # Riesgo Medio\n",
        "\n",
        "data_clean['clima'] = data_clean.apply(clasificar_clima, axis=1)\n",
        "data_final = data_clean[data_clean['clima'] != 2]\n",
        "\n",
        "def clasificar_clima(row):\n",
        "    if row['temperatura'] > 30 and row['humedad'] < 40:\n",
        "        return 'caluroso'\n",
        "    elif row['temperatura'] < 15 and row['humedad'] > 80:\n",
        "        return 'frío y húmedo'\n",
        "    elif row['temperatura'] > 25 and row['humedad'] > 50:\n",
        "        return 'templado y húmedo'\n",
        "    else:\n",
        "        return 'templado'\n",
        "\n",
        "data_clean['clima_tipo'] = data_clean.apply(clasificar_clima, axis=1)"
      ],
      "metadata": {
        "id": "1W38YeaNX_g-"
      },
      "execution_count": 23,
      "outputs": []
    },
    {
      "cell_type": "code",
      "source": [
        "# 5. Preparación para el modelo\n",
        "X = data_final[['temperatura', 'humedad', 'hora', 'dia', 'mes', 'dia_semana']]\n",
        "y_riesgo = data_clean['clima']\n",
        "y_clima_tipo = data_clean['clima_tipo']\n",
        "\n",
        "\n",
        "# Verificar las dimensiones de X, y_riesgo, y_clima_tipo\n",
        "print(\"Dimensión de X:\", X.shape)\n",
        "print(\"Dimensión de y_riesgo:\", y_riesgo.shape)\n",
        "print(\"Dimensión de y_clima_tipo:\", y_clima_tipo.shape)\n",
        "\n",
        "# Combina X y las etiquetas en un DataFrame para asegurar consistencia\n",
        "data_combined = pd.concat([X, y_riesgo, y_clima_tipo], axis=1)\n",
        "\n",
        "# Elimina filas con valores NaN en cualquiera de las columnas\n",
        "data_combined = data_combined.dropna()\n",
        "\n",
        "# Separa de nuevo las características y las etiquetas\n",
        "X = data_combined[['temperatura', 'humedad', 'hora', 'dia', 'mes', 'dia_semana']]\n",
        "y_riesgo = data_combined['clima']\n",
        "y_clima_tipo = data_combined['clima_tipo']\n",
        "\n",
        "# Ahora revisa nuevamente las dimensiones para verificar que coincidan\n",
        "print(\"Dimensión de X después de limpiar:\", X.shape)\n",
        "print(\"Dimensión de y_riesgo después de limpiar:\", y_riesgo.shape)\n",
        "print(\"Dimensión de y_clima_tipo después de limpiar:\", y_clima_tipo.shape)\n",
        "\n",
        "\n",
        "\n",
        "# Dividimos los datos de entrada (X) y las dos variables de salida (y_riesgo y y_clima_tipo)\n",
        "X_train, X_test, y_riesgo_train, y_riesgo_test = train_test_split(\n",
        "    X, y_riesgo, test_size=0.2, random_state=42\n",
        ")\n",
        "_, _, y_clima_tipo_train, y_clima_tipo_test = train_test_split(\n",
        "    X, y_clima_tipo, test_size=0.2, random_state=42\n",
        ")\n",
        "\n",
        "# Escalamos solo los datos de entrada (X_train y X_test)\n",
        "scaler = StandardScaler()\n",
        "\n",
        "# Ajustamos el escalador con los datos de entrenamiento y luego transformamos\n",
        "X_train_scaled = scaler.fit_transform(X_train)\n",
        "\n",
        "# Transformamos los datos de prueba con el escalador ajustado\n",
        "X_test_scaled = scaler.transform(X_test)\n",
        "\n",
        "# Verificamos los tamaños\n",
        "print(\"Tamaño de X_train_scaled:\", X_train_scaled.shape)\n",
        "print(\"Tamaño de X_test_scaled:\", X_test_scaled.shape)\n",
        "print(\"Tamaño de y_riesgo_train:\", y_riesgo_train.shape)\n",
        "print(\"Tamaño de y_clima_tipo_train:\", y_clima_tipo_train.shape)"
      ],
      "metadata": {
        "colab": {
          "base_uri": "https://localhost:8080/"
        },
        "id": "y3SSk3OOYD37",
        "outputId": "7ddcf2d5-55f4-46b8-c6f1-a82cb5ef6a62"
      },
      "execution_count": 28,
      "outputs": [
        {
          "output_type": "stream",
          "name": "stdout",
          "text": [
            "Dimensión de X: (10145, 6)\n",
            "Dimensión de y_riesgo: (15384,)\n",
            "Dimensión de y_clima_tipo: (15384,)\n",
            "Dimensión de X después de limpiar: (10145, 6)\n",
            "Dimensión de y_riesgo después de limpiar: (10145,)\n",
            "Dimensión de y_clima_tipo después de limpiar: (10145,)\n",
            "Tamaño de X_train_scaled: (8116, 6)\n",
            "Tamaño de X_test_scaled: (2029, 6)\n",
            "Tamaño de y_riesgo_train: (8116,)\n",
            "Tamaño de y_clima_tipo_train: (8116,)\n"
          ]
        }
      ]
    },
    {
      "cell_type": "code",
      "source": [
        "# Guardar el scaler\n",
        "with open('scaler.pkl', 'wb') as f:\n",
        "    pickle.dump(scaler, f)\n"
      ],
      "metadata": {
        "id": "JAEaE1WZn13_"
      },
      "execution_count": 29,
      "outputs": []
    },
    {
      "cell_type": "code",
      "source": [
        "# Entrenamiento del modelo para clasificar el riesgo\n",
        "model_riesgo = RandomForestClassifier(n_estimators=100, random_state=42)\n",
        "model_riesgo.fit(X_train, y_riesgo_train)\n",
        "\n",
        "# Predicciones para riesgo\n",
        "y_riesgo_pred = model_riesgo.predict(X_test)\n",
        "\n",
        "# Evaluación del modelo de riesgo\n",
        "print(\"Reporte de Clasificación - Riesgo:\")\n",
        "print(classification_report(y_riesgo_test, y_riesgo_pred))\n",
        "print(\"Matriz de Confusión - Riesgo:\")\n",
        "print(confusion_matrix(y_riesgo_test, y_riesgo_pred))"
      ],
      "metadata": {
        "colab": {
          "base_uri": "https://localhost:8080/"
        },
        "id": "_czpOCCWn8ZI",
        "outputId": "6302cebd-95c1-4565-cabc-92b3a92309c9"
      },
      "execution_count": 30,
      "outputs": [
        {
          "output_type": "stream",
          "name": "stdout",
          "text": [
            "Reporte de Clasificación - Riesgo:\n",
            "              precision    recall  f1-score   support\n",
            "\n",
            "           0       1.00      1.00      1.00      2004\n",
            "           1       1.00      1.00      1.00        25\n",
            "\n",
            "    accuracy                           1.00      2029\n",
            "   macro avg       1.00      1.00      1.00      2029\n",
            "weighted avg       1.00      1.00      1.00      2029\n",
            "\n",
            "Matriz de Confusión - Riesgo:\n",
            "[[2004    0]\n",
            " [   0   25]]\n"
          ]
        }
      ]
    },
    {
      "cell_type": "code",
      "source": [
        "# Entrenamiento del modelo para clasificar el tipo de clima\n",
        "model_clima = RandomForestClassifier(n_estimators=100, random_state=42)\n",
        "model_clima.fit(X_train, y_clima_tipo_train)\n",
        "\n",
        "# Predicciones para tipo de clima\n",
        "y_clima_tipo_pred = model_clima.predict(X_test)\n",
        "\n",
        "# Evaluación del modelo de clima\n",
        "print(\"Reporte de Clasificación - Tipo de Clima:\")\n",
        "print(classification_report(y_clima_tipo_test, y_clima_tipo_pred))\n",
        "print(\"Matriz de Confusión - Tipo de Clima:\")\n",
        "print(confusion_matrix(y_clima_tipo_test, y_clima_tipo_pred))"
      ],
      "metadata": {
        "colab": {
          "base_uri": "https://localhost:8080/"
        },
        "id": "t64Lznj7oT7U",
        "outputId": "46f85e47-bc88-4779-bf4e-a86c8af62140"
      },
      "execution_count": 31,
      "outputs": [
        {
          "output_type": "stream",
          "name": "stdout",
          "text": [
            "Reporte de Clasificación - Tipo de Clima:\n",
            "               precision    recall  f1-score   support\n",
            "\n",
            "     caluroso       1.00      1.00      1.00        25\n",
            "frío y húmedo       1.00      1.00      1.00      1224\n",
            "     templado       1.00      1.00      1.00       780\n",
            "\n",
            "     accuracy                           1.00      2029\n",
            "    macro avg       1.00      1.00      1.00      2029\n",
            " weighted avg       1.00      1.00      1.00      2029\n",
            "\n",
            "Matriz de Confusión - Tipo de Clima:\n",
            "[[  25    0    0]\n",
            " [   0 1224    0]\n",
            " [   0    0  780]]\n"
          ]
        }
      ]
    },
    {
      "cell_type": "code",
      "source": [
        "# modelo entrenado llamado 'modelo_riesgo'\n",
        "joblib.dump(model_riesgo, 'modelo_riesgo.pkl')\n",
        "\n",
        "# modelo para el tipo de clima\n",
        "joblib.dump(model_clima, 'modelo_clima_tipo.pkl')"
      ],
      "metadata": {
        "colab": {
          "base_uri": "https://localhost:8080/"
        },
        "id": "DZzp4LCkoexr",
        "outputId": "547945a0-92b8-406f-9402-3cc3d66171c0"
      },
      "execution_count": 34,
      "outputs": [
        {
          "output_type": "execute_result",
          "data": {
            "text/plain": [
              "['modelo_clima_tipo.pkl']"
            ]
          },
          "metadata": {},
          "execution_count": 34
        }
      ]
    }
  ]
}